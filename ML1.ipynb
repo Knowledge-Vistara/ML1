{
 "cells": [
  {
   "cell_type": "code",
   "execution_count": 4,
   "metadata": {},
   "outputs": [
    {
     "name": "stdout",
     "output_type": "stream",
     "text": [
      "[['sunny ', 'warm', 'normal', 'strong', 'warm ', 'same ', 'Y'], ['sunny ', 'warm', 'high', 'strong', 'warm ', 'same ', 'Y'], ['rainy', 'cold', 'high', 'strong', 'warm ', 'change', 'N'], ['sunny ', 'warm', 'high', 'strong', 'cool', 'change', 'Y']]\n",
      "['sunny ', 'warm', 'normal', 'strong', 'warm ', 'same ', 'Y']\n",
      "Maximally Specific set\n",
      "< sunny  warm normal strong warm  same  >\n"
     ]
    }
   ],
   "source": [
    "import random\n",
    "import csv\n",
    "\n",
    "def read_data(filename):\n",
    "    with open(filename, 'r') as csvfile:\n",
    "        datareader = csv.reader(csvfile, delimiter=',')\n",
    "        traindata = []\n",
    "        for row in datareader:\n",
    "            traindata.append(row)\n",
    "    return (traindata)\n",
    "\n",
    "def findS():\n",
    "    dataarr=read_data('tennis_p1.csv')\n",
    "    print(dataarr)\n",
    "    h=dataarr[0]\n",
    "    print(h)\n",
    "    # if the first instance is -ve algo wont work\n",
    "    rows=len(dataarr)\n",
    "    columns=7\n",
    "    \n",
    "    for x in range(1,rows):\n",
    "        t=dataarr[x]\n",
    "        if t[columns-1]=='1':\n",
    "            #for y in range(columns):\n",
    "             #   if h[y]==t[y]:\n",
    "                    for y in range(columns):\n",
    "                        if h[y]==t[y]:\n",
    "                            pass\n",
    "                        else:\n",
    "                            h[y]='?'\n",
    "    print(\"Maximally Specific set\")        \n",
    "    print('<',end=' ')\n",
    "    for i in range(0,len(h)-1):\n",
    "        print(h[i],end=' ')\n",
    "    print('>')\n",
    "findS()\n"
   ]
  },
  {
   "cell_type": "code",
   "execution_count": null,
   "metadata": {},
   "outputs": [],
   "source": []
  }
 ],
 "metadata": {
  "kernelspec": {
   "display_name": "Python 3",
   "language": "python",
   "name": "python3"
  },
  "language_info": {
   "codemirror_mode": {
    "name": "ipython",
    "version": 3
   },
   "file_extension": ".py",
   "mimetype": "text/x-python",
   "name": "python",
   "nbconvert_exporter": "python",
   "pygments_lexer": "ipython3",
   "version": "3.6.4"
  }
 },
 "nbformat": 4,
 "nbformat_minor": 2
}
